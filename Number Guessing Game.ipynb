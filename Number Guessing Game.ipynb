{
 "cells": [
  {
   "cell_type": "code",
   "execution_count": 2,
   "id": "89efb857",
   "metadata": {},
   "outputs": [
    {
     "name": "stdout",
     "output_type": "stream",
     "text": [
      "Do you want to play a fun little game? (yes or no) yes\n",
      "\n",
      "I'm thinking of a number from 1 to 100...\n",
      "Wanna take a guess? You have 5 guesses. 50\n",
      "Your guess is too high. You have 4 guesses left. 43\n",
      "Your guess is too high. You have 3 guesses left. 25\n",
      "Your guess is too high. You have 2 guesses left. 13\n",
      "Your guess is close, but just a little high. You have 1 guesses left. 11\n",
      "Oh no! You didn't guess the number. The number I was thinking of was 9.\n",
      "Do you want to try again? (yes or no) no\n",
      "\n",
      "Thank you for coming to our games!\n"
     ]
    }
   ],
   "source": [
    "from random import randint\n",
    "total = 10\n",
    "play = input(\"Do you want to play a fun little game? (yes or no) \").lower()\n",
    "while play == \"yes\":\n",
    "    low = 1\n",
    "    high = 100\n",
    "    number = randint(low,high)\n",
    "    attempts = total\n",
    "    print(\"\\nI'm thinking of a number from\",low,\"to \"+str(high)+\"...\")\n",
    "    guess = int(input(\"Wanna take a guess? You have \"+str(total)+\" guesses. \"))\n",
    "    while attempts > 1:\n",
    "        attempts -= 1\n",
    "        if guess < number:\n",
    "            if guess - number > -5:\n",
    "                guess = int(input(\"Your guess is close, but just a little low. You have \"+str(attempts)+\n",
    "                                 \" guesses left. \"))\n",
    "            else:\n",
    "                guess = int(input(\"Your guess is too low. You have \"+str(attempts)+\" guesses left. \"))\n",
    "        elif guess > number:\n",
    "            if guess - number < 5:\n",
    "                guess = int(input(\"Your guess is close, but just a little high. You have \"+\n",
    "                                 str(attempts)+\" guesses left. \"))\n",
    "            else:\n",
    "                guess = int(input(\"Your guess is too high. You have \"+str(attempts)+\" guesses left. \"))\n",
    "        else:\n",
    "            if total - attempts == 1:\n",
    "                print(\"Holy smokes! You got it in one try! You are amazing!\")\n",
    "                while total > 5:\n",
    "                    total -= 1\n",
    "                    if total > 5:\n",
    "                        play = input(\"We're going to take a guess away. Want to try again? (yes or no) \")\n",
    "                    break\n",
    "                if total == 5:\n",
    "                    print(\"Hopefully you're not cheating \\N{winking face}\")\n",
    "                    play = input(\"Want to try again? (yes or no) \")\n",
    "                break\n",
    "            else:\n",
    "                print(\"Your guess was correct! You guessed the number correctly in\",total-attempts,\"tries!\")\n",
    "                play = input(\"Do you want to play again? (yes or no) \").lower()\n",
    "                break\n",
    "    if attempts == 1:\n",
    "        print(\"Oh no! You didn't guess the number. The number I was thinking of was \"+str(number)+\".\")\n",
    "        play = input(\"Do you want to try again? (yes or no) \").lower()\n",
    "print(\"\\nThank you for coming to our games!\")"
   ]
  },
  {
   "cell_type": "code",
   "execution_count": null,
   "id": "d560fffb",
   "metadata": {
    "scrolled": true
   },
   "outputs": [],
   "source": []
  }
 ],
 "metadata": {
  "kernelspec": {
   "display_name": "Python 3",
   "language": "python",
   "name": "python3"
  },
  "language_info": {
   "codemirror_mode": {
    "name": "ipython",
    "version": 3
   },
   "file_extension": ".py",
   "mimetype": "text/x-python",
   "name": "python",
   "nbconvert_exporter": "python",
   "pygments_lexer": "ipython3",
   "version": "3.8.8"
  }
 },
 "nbformat": 4,
 "nbformat_minor": 5
}
